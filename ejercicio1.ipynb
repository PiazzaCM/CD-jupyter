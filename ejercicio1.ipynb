{
 "cells": [
  {
   "cell_type": "markdown",
   "metadata": {},
   "source": [
    "## Duplicados\n",
    "\n",
    "- se define la funcion \n",
    "- se valida de que la lista tenga datos \n",
    "- se retorna la lista\n",
    "- creamos una lista y se borran los duplicados\n",
    "- mostramos la lista"
   ]
  },
  {
   "cell_type": "code",
   "execution_count": 1,
   "metadata": {},
   "outputs": [
    {
     "name": "stdout",
     "output_type": "stream",
     "text": [
      "[1, 2, 3, 4, 5, 6, 7, 8]\n"
     ]
    }
   ],
   "source": [
    "lista = [1,5, 8, 3, 2, 3, 4, 4, 8, 5, 6, 6, 7]\n",
    "\n",
    "\n",
    "def eliminar_duplicados(lista):\n",
    "    if not lista: \n",
    "        return 'no hay lista'\n",
    "    elif len(lista) == 1: \n",
    "        return lista\n",
    "    nueva_lista = list(set(lista)) \n",
    "    return nueva_lista\n",
    "print(eliminar_duplicados(lista))"
   ]
  }
 ],
 "metadata": {
  "kernelspec": {
   "display_name": "entorno",
   "language": "python",
   "name": "python3"
  },
  "language_info": {
   "codemirror_mode": {
    "name": "ipython",
    "version": 3
   },
   "file_extension": ".py",
   "mimetype": "text/x-python",
   "name": "python",
   "nbconvert_exporter": "python",
   "pygments_lexer": "ipython3",
   "version": "3.12.2"
  }
 },
 "nbformat": 4,
 "nbformat_minor": 2
}
